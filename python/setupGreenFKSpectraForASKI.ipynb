{
 "cells": [
  {
   "cell_type": "markdown",
   "metadata": {},
   "source": [
    "# Computing Green FK spectra with GEMINI for use with ASKI"
   ]
  },
  {
   "cell_type": "markdown",
   "metadata": {},
   "source": [
    "## Introductory remarks"
   ]
  },
  {
   "cell_type": "markdown",
   "metadata": {},
   "source": [
    "If you want to compute waveform sensitivity kernels using ASKI based on GEMINI solutions of the elastic wave equation, this is the first step you need to take.\n",
    "\n",
    "To compute waveform sensitivity kernels in ASKI, we need wavefields radiating from seismic sources into the model domain and wavefields radiating from the receiver positions into the model domain.\n",
    "The kernels are obtained by convolution of the two wavefields which is equivalent to a multiplication in the frequency domain.\n",
    "\n",
    "As a first step, we configure here the computation of Green functions in the frequency-wavenumber (FK) domain for a given 1D earth model using the program <b>computeGreenFKSpectraForASKI</b>. From these, the required seismic wavefields in the model domain are obtained in a second step using the programs <b>computeKernelWavefield</b> and <b>computeKernelGreenTensor</b>. \n",
    "\n",
    "GEMINI uses externally defined radial nodes where solutions are stored and which at the same time serve as potential source positions. <b>computeGreenFKSpectraForASKI</b> considers every radial node as a source node and calculates the resulting Green FK-spectra at all the other nodes. In case the range of sources is smaller than the range covered by the radial nodes, you may set a minimum source radius. For each source node, a separate output file is written to disk. Besides the source type, the source node index and, in case of a parallel run the processor's rank, are appended to the file's base name. But no worry, <b>computeKernelWavefield</b>, <b>computeKernelGreenTensor</b> and <b>plotGreenFKSpectra</b> know about how to read these files correctly."
   ]
  },
  {
   "cell_type": "markdown",
   "metadata": {
    "collapsed": true
   },
   "source": [
    "## Creating a working folder"
   ]
  },
  {
   "cell_type": "markdown",
   "metadata": {},
   "source": [
    "You should first create a new working folder where you want to run <b>computeGreenFKSpectraForASKI</b> from and to which parameter files and output files are written. Doing so helps in organizing things and avoiding inconsistencies between in- and output. If you haven't done so yet, please create that folder and copy this notebook to the new place. Then, close and halt this notebool, switch to the working folder and start the copy from there."
   ]
  },
  {
   "cell_type": "markdown",
   "metadata": {},
   "source": [
    "## Creating the parameter file"
   ]
  },
  {
   "cell_type": "markdown",
   "metadata": {},
   "source": [
    "In the following, it is assumed that you are now in your new working folder. The first thing we do is to create the parameter file for <b>computeGreenFKSpectraForASKI</b>. To do this we first append the folder where the Python parameter templates of GEMINI are located to the path variable. Please enter the appropriate folder name."
   ]
  },
  {
   "cell_type": "code",
   "execution_count": 1,
   "metadata": {
    "collapsed": true
   },
   "outputs": [],
   "source": [
    "import sys\n",
    "sys.path.append('/home/wolle/work_git/geminiUnified/python/')"
   ]
  },
  {
   "cell_type": "markdown",
   "metadata": {},
   "source": [
    "### Earth model"
   ]
  },
  {
   "cell_type": "markdown",
   "metadata": {},
   "source": [
    "The GEMINI code needs an Earth model in <i>nodeEarthmodel</i> format. Here, an example how it looks.\n",
    "1.  keyword saying it is in <i>nodeEarthmodel</i> format\n",
    "2.  arbitrary text\n",
    "3.  reference frequency in Hz, attenuation flag (not used), anisotropy flag, earth radius in km\n",
    "4.  number of lines following\n",
    "5.  depth in meters, density in g/cm$^3$, P-wave velocity in km/s, S-wave velocity in km/s, quality factor for $\\kappa$, $Q_{\\kappa}$, quality factor for $\\mu$, $Q_\\mu$."
   ]
  },
  {
   "cell_type": "raw",
   "metadata": {},
   "source": [
    "FLNODE\n",
    "AK135Q down to 1000 km\n",
    "  1. 3 0 6371.\n",
    " 49\n",
    "  0.        2.72000003  5.80000019  3.46000004  13850.  332.\n",
    "  5000.     2.72000003  5.80000019  3.46000004  13850.  332.\n",
    "  10000.    2.72000003  5.80000019  3.46000004  13850.  332.\n",
    "  15000.    2.72000003  5.80000019  3.46000004  13850.  332.\n",
    "  20000.    2.72000003  5.80000019  3.46000004  13850.  332.\n",
    "  20000.    2.92000008  6.5  3.8499999  13850.  277.\n",
    "  23000.    2.92000008  6.5  3.8499999  13850.  277.\n",
    "  27000.    2.92000008  6.5  3.8499999  13850.  277.\n",
    "  30000.    2.92000008  6.5  3.8499999  13850.  277.\n",
    "  30000.    3.31994677  8.04018211  4.48001385  5895.  118.\n",
    "  35000.    3.31994677  8.04018211  4.48001385  5895.  118.\n",
    "  40000.    3.32295346  8.04074955  4.48118877  5895.  118.\n",
    "  45000.    3.32596016  8.04131603  4.48236322  5895.  118.\n",
    "  50000.    3.32896686  8.04188347  4.48353815  5895.  118.\n",
    "  55000.    3.33197355  8.0424509  4.48471308  5895.  118."
   ]
  },
  {
   "cell_type": "markdown",
   "metadata": {},
   "source": [
    "Note:\n",
    "+  first line gives material properties at the surface\n",
    "+  discontinuities are specified by double nodes\n",
    "+  single nodes act as anchor points for a <b>continuous</b> depth variation between two discontinuities. <b>computeGreenFKSpectraForASKI</b> uses spline interpolation for this purpose."
   ]
  },
  {
   "cell_type": "code",
   "execution_count": 2,
   "metadata": {
    "collapsed": true
   },
   "outputs": [],
   "source": [
    "earth_model = 'ak135q.nm'"
   ]
  },
  {
   "cell_type": "markdown",
   "metadata": {},
   "source": [
    "### External radial nodes"
   ]
  },
  {
   "cell_type": "markdown",
   "metadata": {},
   "source": [
    "Here you may define the set of radial nodes GEMINI uses as potential source nodes and as places where the Green FK spectra are stored. The length unit is <b>km</b>. Make sure that all radial nodes are above the inner homogeneous sphere of the earth model. Note: Indexing of radial nodes increases with radius not depth. Thus, index 1 corresponds to the bottommost node.\n",
    "\n",
    "First we define the radius of the earth in km. You may choose a different value, for example when computing wave propagation in a tennis ball."
   ]
  },
  {
   "cell_type": "code",
   "execution_count": 3,
   "metadata": {
    "collapsed": true
   },
   "outputs": [],
   "source": [
    "rearth = 6371."
   ]
  },
  {
   "cell_type": "markdown",
   "metadata": {},
   "source": [
    "The nodes are organized into several blocks within which nodes are equidistant."
   ]
  },
  {
   "cell_type": "code",
   "execution_count": 4,
   "metadata": {
    "collapsed": true
   },
   "outputs": [],
   "source": [
    "nblocks = 2"
   ]
  },
  {
   "cell_type": "markdown",
   "metadata": {},
   "source": [
    "In contrast to the ordering of the nodes, the blocks are ordered from top to bottom. The following integer array specifies the number of nodes within each block:"
   ]
  },
  {
   "cell_type": "code",
   "execution_count": 5,
   "metadata": {
    "collapsed": true
   },
   "outputs": [],
   "source": [
    "nnod = '10 10'"
   ]
  },
  {
   "cell_type": "markdown",
   "metadata": {},
   "source": [
    "The following real array specifies the spacing between the nodes of each block, also ordered from top to bottom. Unit is km."
   ]
  },
  {
   "cell_type": "code",
   "execution_count": 6,
   "metadata": {
    "collapsed": true
   },
   "outputs": [],
   "source": [
    "dr = '3 5'"
   ]
  },
  {
   "cell_type": "markdown",
   "metadata": {},
   "source": [
    "By default, there is always one node at the surface. However, you may shift this node and with it all other nodes below to greater depths:"
   ]
  },
  {
   "cell_type": "code",
   "execution_count": 7,
   "metadata": {
    "collapsed": true
   },
   "outputs": [],
   "source": [
    "shift = 0.0"
   ]
  },
  {
   "cell_type": "markdown",
   "metadata": {},
   "source": [
    "### Miscellaneous parameters"
   ]
  },
  {
   "cell_type": "markdown",
   "metadata": {},
   "source": [
    "Maximum length of synthetics to be calculated from Green FK-spectra in seconds.\n",
    "Determines the frequency stepping: df = 1/tlen:"
   ]
  },
  {
   "cell_type": "code",
   "execution_count": 8,
   "metadata": {
    "collapsed": true
   },
   "outputs": [],
   "source": [
    "tlen = 512"
   ]
  },
  {
   "cell_type": "markdown",
   "metadata": {},
   "source": [
    "Distance from which wavenumber stepping is calculated in km\n",
    "(should be about 10 times the maximum source receiver distance):"
   ]
  },
  {
   "cell_type": "code",
   "execution_count": 9,
   "metadata": {
    "collapsed": true
   },
   "outputs": [],
   "source": [
    "xlen = 5000."
   ]
  },
  {
   "cell_type": "markdown",
   "metadata": {},
   "source": [
    "Upper frequency limit of Green FK-spectra in Hz \n",
    "(should be twice the Nyquist frequency desired for synthetics):"
   ]
  },
  {
   "cell_type": "code",
   "execution_count": 10,
   "metadata": {
    "collapsed": true
   },
   "outputs": [],
   "source": [
    "fmax = 0.2"
   ]
  },
  {
   "cell_type": "markdown",
   "metadata": {},
   "source": [
    "Basename of output files for Green FK-spectra. Program appends <i>'.'+sourcetype+'.'+source_node+'.'+rank</i>, where <i>sourcetype</i> is either FORCE or MOMENT, <i>source_node</i> is the index of the source radial node and <i>rank</i> is the rank of the processor by which the file was written:"
   ]
  },
  {
   "cell_type": "code",
   "execution_count": 11,
   "metadata": {
    "collapsed": true
   },
   "outputs": [],
   "source": [
    "basename = 'gfk'"
   ]
  },
  {
   "cell_type": "markdown",
   "metadata": {},
   "source": [
    "Source type: set 'FORCE' for single force or 'MOMENT' for moment tensor source:"
   ]
  },
  {
   "cell_type": "code",
   "execution_count": 12,
   "metadata": {
    "collapsed": true
   },
   "outputs": [],
   "source": [
    "source_type = 'MOMENT'"
   ]
  },
  {
   "cell_type": "markdown",
   "metadata": {},
   "source": [
    "Mode of attenuation. This replaces the attenuation flag in the earth model file which was used in older versions. Allowed values for this parameter are:<br>\n",
    "ELASTIC, ATTENUATION_ONLY, DISPERSION_ONLY, ATTENUATION_AND_DISPERSION"
   ]
  },
  {
   "cell_type": "code",
   "execution_count": 13,
   "metadata": {
    "collapsed": true
   },
   "outputs": [],
   "source": [
    "attn_mode = 'ATTENUATION_AND_DISPERSION'"
   ]
  },
  {
   "cell_type": "markdown",
   "metadata": {},
   "source": [
    "Accuracy of computation. Reasonable values are $10^{-4}$ to $10^{-6}$. The adaptive step size integration method stops refining step size once the estimated error is below this value."
   ]
  },
  {
   "cell_type": "code",
   "execution_count": 14,
   "metadata": {
    "collapsed": true
   },
   "outputs": [],
   "source": [
    "eps = 1.e-5"
   ]
  },
  {
   "cell_type": "markdown",
   "metadata": {},
   "source": [
    "We also need an upper limit for the wavenumbers. Since this depends linearly on frequency, we instead give a slowness or inverse wave speed limit $p=k/\\omega$ expressed in units of s/km. You may specifiy two different values to save computation time. The first one is for the frequency range $0 < f < f_{max}/2$ and the second one for the range $f_{max}/2 < f < f_{max}$. The 2nd one can be more restrictive because contributions by frequencies beyond $f_{max}/2$ will be diminished by a low-pass filter when tranforming into the time domain. Given a value of $p$, waves travelling with apparent speeds of $1/p$ will miss in the synthetic seismograms. A good first estimate for $p$ is the slowness of the slowest surface wave propagating in the model."
   ]
  },
  {
   "cell_type": "code",
   "execution_count": 15,
   "metadata": {
    "collapsed": true
   },
   "outputs": [],
   "source": [
    "slowness_limit_1 = 0.5\n",
    "slowness_limit_2 = 0.5"
   ]
  },
  {
   "cell_type": "markdown",
   "metadata": {},
   "source": [
    "Since a formula $k_{max} = p\\omega$ would lead to $k_{max} = 0$ at zero frequency, the wavenumber range is extended by a constant fraction of the one at $f_{max}/2$. Here, you can specify this fraction:"
   ]
  },
  {
   "cell_type": "code",
   "execution_count": 16,
   "metadata": {
    "collapsed": true
   },
   "outputs": [],
   "source": [
    "wavenumber_margin_fraction = 0.1"
   ]
  },
  {
   "cell_type": "markdown",
   "metadata": {},
   "source": [
    "The range of nodes onsidered as source nodes can be restricted by defining a lower node limit (remember nodes are numbered bottom up):"
   ]
  },
  {
   "cell_type": "code",
   "execution_count": 17,
   "metadata": {
    "collapsed": true
   },
   "outputs": [],
   "source": [
    "min_source_node = 1"
   ]
  },
  {
   "cell_type": "markdown",
   "metadata": {},
   "source": [
    "Finally, we need to specify the radial node where the receivers are located (typically at the surface):"
   ]
  },
  {
   "cell_type": "code",
   "execution_count": 18,
   "metadata": {
    "collapsed": true
   },
   "outputs": [],
   "source": [
    "rec_node_index = 21"
   ]
  },
  {
   "cell_type": "markdown",
   "metadata": {},
   "source": [
    "Now we are ready to create the parameter file. First, we generate a Python string containing the entire contents fo the file and then we write it to the working folder:"
   ]
  },
  {
   "cell_type": "code",
   "execution_count": 19,
   "metadata": {
    "collapsed": true
   },
   "outputs": [],
   "source": [
    "from parfile_gfkaski import create_gfkaski_parfile \n",
    "\n",
    "parstring = create_gfkaski_parfile(tlen,xlen,fmax,earth_model,basename,\n",
    "            source_type,attn_mode,eps,slowness_limit_1,slowness_limit_2,wavenumber_margin_fraction,\n",
    "            rearth,nblocks,nnod,dr,shift,min_source_node,rec_node_index)\n",
    "outfile = './'+'gfkaski_parfile'"
   ]
  },
  {
   "cell_type": "code",
   "execution_count": 87,
   "metadata": {
    "collapsed": false
   },
   "outputs": [],
   "source": [
    "with open(outfile,'w') as fd:\n",
    "    fd.write(parstring)"
   ]
  }
 ],
 "metadata": {
  "kernelspec": {
   "display_name": "Python 3",
   "language": "python",
   "name": "python3"
  },
  "language_info": {
   "codemirror_mode": {
    "name": "ipython",
    "version": 3
   },
   "file_extension": ".py",
   "mimetype": "text/x-python",
   "name": "python",
   "nbconvert_exporter": "python",
   "pygments_lexer": "ipython3",
   "version": "3.6.0"
  }
 },
 "nbformat": 4,
 "nbformat_minor": 1
}
