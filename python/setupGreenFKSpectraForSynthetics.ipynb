{
 "cells": [
  {
   "cell_type": "markdown",
   "metadata": {},
   "source": [
    "# Computing synthetic seismograms using GEMINI"
   ]
  },
  {
   "cell_type": "markdown",
   "metadata": {},
   "source": [
    "## Introductory remarks"
   ]
  },
  {
   "cell_type": "markdown",
   "metadata": {},
   "source": [
    "If you want to compute waveform synthetics seismograms based on GEMINI solutions of the elastic wave equation, this is the first step you need to take.\n",
    "\n",
    "GEMINI computes synthetic seismograms in two basic steps: the first one is the computation of Green frequency-wavenumber (FK) spectra using the program <b>computeGreenFKSpectraForSynthetics</b>. Seismograms are calculated in a follow-up step using the program <b>computeSyntheticSeismograms</b>. Here, we deal with the first step.\n",
    "\n",
    "GEMINI uses externally defined radial nodes where solutions are stored and which at the same time serve as potential source positions. <b>computeGreenFKSpectraForSynthetics</b> provides Green FK spectra at one specific receiver node considering every radial node as a source node. The source type and, in case of a parallel run the processor's rank, are appended to the file's base name."
   ]
  },
  {
   "cell_type": "markdown",
   "metadata": {},
   "source": [
    "## Creating a working folder"
   ]
  },
  {
   "cell_type": "markdown",
   "metadata": {},
   "source": [
    "You should first create a new working folder where you want to run <b>computeGreenFKSpectraForSynthetics</b> from and to which parameter files and output files are written. Doing so helps in organizing things and avoiding inconsistencies between in- and output. If you haven't done so yet, please create that folder and copy this notebook to the new place. Then, close and halt this notebook, switch to the working folder and start the copy from there."
   ]
  },
  {
   "cell_type": "markdown",
   "metadata": {},
   "source": [
    "## Creating the parameter file"
   ]
  },
  {
   "cell_type": "markdown",
   "metadata": {},
   "source": [
    "In the following, it is assumed that you are now in your new working folder. The first thing we do is to create the parameter file for <b>computeGreenFKSpectraForSynthetics</b>. To do this we first append the folder where the Python parameter templates of GEMINI are located to the path variable. Please enter the appropriate folder name."
   ]
  },
  {
   "cell_type": "code",
   "execution_count": 3,
   "metadata": {
    "collapsed": true
   },
   "outputs": [],
   "source": [
    "import sys\n",
    "sys.path.append('/home/wolle/work_git/geminiUnified/python/')"
   ]
  },
  {
   "cell_type": "markdown",
   "metadata": {},
   "source": [
    "### Earth model"
   ]
  },
  {
   "cell_type": "markdown",
   "metadata": {},
   "source": [
    "File name of 1D earth model. This file is in JSON format. It specifies the model properties at radial nodes. Discontinuities are represented by double nodes. Single nodes act as anchor points for a <b>continuous</b> depth variation between two discontinuities. Splines are used for interpolation. Here,an example how it looks."
   ]
  },
  {
   "cell_type": "raw",
   "metadata": {},
   "source": [
    "{\n",
    "    \"description\" : \"standard earth model AK135Q down to 1000 km\",\n",
    "    \"type\" : \"nm\",\n",
    "    \"reference_frequency_hz\" : 1.0,\n",
    "    \"anisotropic\" : false,\n",
    "    \"earth_radius\" : 6371.0,\n",
    "    \"full_space\" : false,\n",
    "    \"num_layers\" : 6,\n",
    "    \"num_nodes\" : 49,\n",
    "    \"radius_upper_layer_boundary_km\" : [5371.0, 5711.0, 5961.0, 6341.0, 6351.0, 6371.0],\n",
    "    \"index_upper_boundary\" : [1, 9, 18, 40, 44, 49],\n",
    "    \"units\" : {\"depth\" : \"m\", \"density\" : \"g/cm3\", \"velocity\" : \"km/s\"},\n",
    "    \"node_properties\" : {\n",
    "\t    \"layer_index\" : [\n",
    "\t        1,2,2,2,2,2,2,2,2,3,3,3,3,3,3,3,3,3,4,4,4,4,4,4,4,4,4,4,4,4,4,4,4,4,4,4,4,4,4,4,5,5,5,5,6,6,6,6,6\n",
    "\t    ],\n",
    "\t    \"depth\" : [\n",
    "\t        1000000.0,\n",
    "            1000000.0,\n",
    "            940000.0,\n",
    "            880000.0, and so on ......\n",
    "        ],\n",
    "        \"density\" : [\n",
    "            4.56839085,\n",
    "            4.56839085,\n",
    "            4.53442764,\n",
    "            4.50043201, and so on .....\n",
    "        ],  and so on ...\n",
    "    }\n",
    "}"
   ]
  },
  {
   "cell_type": "code",
   "execution_count": 4,
   "metadata": {
    "collapsed": true
   },
   "outputs": [],
   "source": [
    "earth_model = 'ak135q.json'"
   ]
  },
  {
   "cell_type": "markdown",
   "metadata": {},
   "source": [
    "### External radial nodes"
   ]
  },
  {
   "cell_type": "markdown",
   "metadata": {},
   "source": [
    "Here you may define the set of radial nodes GEMINI uses as potential source nodes and as places where the Green FK spectra are stored. The length unit is <b>km</b>. Make sure that all radial nodes are above the inner homogeneous sphere of the earth model. Note: Indexing of radial nodes increases with radius not depth. Thus, index 1 corresponds to the bottommost node.\n",
    "\n",
    "First we define the radius of the earth in km. You may choose a different value, for example when computing wave propagation in a tennis ball."
   ]
  },
  {
   "cell_type": "code",
   "execution_count": 5,
   "metadata": {
    "collapsed": true
   },
   "outputs": [],
   "source": [
    "rearth = 6371."
   ]
  },
  {
   "cell_type": "markdown",
   "metadata": {},
   "source": [
    "The nodes are organized into several blocks within which nodes are equidistant."
   ]
  },
  {
   "cell_type": "code",
   "execution_count": 6,
   "metadata": {
    "collapsed": true
   },
   "outputs": [],
   "source": [
    "nblocks = 2"
   ]
  },
  {
   "cell_type": "markdown",
   "metadata": {},
   "source": [
    "In contrast to the ordering of the nodes, the blocks are ordered from top to bottom. The following integer array specifies the number of nodes within each block:"
   ]
  },
  {
   "cell_type": "code",
   "execution_count": 7,
   "metadata": {
    "collapsed": true
   },
   "outputs": [],
   "source": [
    "nnod = '10 10'"
   ]
  },
  {
   "cell_type": "markdown",
   "metadata": {},
   "source": [
    "The following real array specifies the spacing between the nodes of each block, also ordered from top to bottom. Unit is km."
   ]
  },
  {
   "cell_type": "code",
   "execution_count": 8,
   "metadata": {
    "collapsed": true
   },
   "outputs": [],
   "source": [
    "dr = '3 5'"
   ]
  },
  {
   "cell_type": "markdown",
   "metadata": {},
   "source": [
    "By default, there is always one node at the surface. However, you may shift this node and with it all other nodes below to greater depths:"
   ]
  },
  {
   "cell_type": "code",
   "execution_count": 9,
   "metadata": {
    "collapsed": true
   },
   "outputs": [],
   "source": [
    "shift = 0.0"
   ]
  },
  {
   "cell_type": "markdown",
   "metadata": {},
   "source": [
    "### Miscellaneous parameters"
   ]
  },
  {
   "cell_type": "markdown",
   "metadata": {},
   "source": [
    "Maximum length of synthetics to be calculated from GFK-spectra in seconds.\n",
    "Determines the frequency stepping: df = 1/tlen."
   ]
  },
  {
   "cell_type": "code",
   "execution_count": 10,
   "metadata": {
    "collapsed": true
   },
   "outputs": [],
   "source": [
    "tlen = 512"
   ]
  },
  {
   "cell_type": "markdown",
   "metadata": {},
   "source": [
    "Distance from which wavenumber stepping is calculated in km\n",
    "(should be about 10 times the maximum source receiver distance)"
   ]
  },
  {
   "cell_type": "code",
   "execution_count": 11,
   "metadata": {
    "collapsed": true
   },
   "outputs": [],
   "source": [
    "xlen = 5000."
   ]
  },
  {
   "cell_type": "markdown",
   "metadata": {},
   "source": [
    "Upper frequency limit of Green FK-spectra in Hz \n",
    "(should be twice the Nyquist frequency desired for synthetics)"
   ]
  },
  {
   "cell_type": "code",
   "execution_count": 12,
   "metadata": {
    "collapsed": true
   },
   "outputs": [],
   "source": [
    "fmax = 0.2"
   ]
  },
  {
   "cell_type": "markdown",
   "metadata": {},
   "source": [
    "Basename of output files for Green FK-spectra\n",
    "Program appends <i>'.'+sourcetype+'.'+crank</i>, where sourcetype is either FORCE or MOMENT, and rank is the rank of the processor by which the file was written:"
   ]
  },
  {
   "cell_type": "code",
   "execution_count": 13,
   "metadata": {
    "collapsed": true
   },
   "outputs": [],
   "source": [
    "basename = 'gfk'"
   ]
  },
  {
   "cell_type": "markdown",
   "metadata": {},
   "source": [
    "Source type: set 'FORCE' for single force or 'MOMENT' for moment tensor source"
   ]
  },
  {
   "cell_type": "code",
   "execution_count": 14,
   "metadata": {
    "collapsed": true
   },
   "outputs": [],
   "source": [
    "source_type = 'MOMENT'"
   ]
  },
  {
   "cell_type": "markdown",
   "metadata": {},
   "source": [
    "Mode of attenuation. This replaces the attenuation flag in the earth model file which was used in older versions. Allowed values for this parameter are:<br>\n",
    "ELASTIC, ATTENUATION_ONLY, DISPERSION_ONLY, ATTENUATION_AND_DISPERSION"
   ]
  },
  {
   "cell_type": "code",
   "execution_count": 15,
   "metadata": {
    "collapsed": true
   },
   "outputs": [],
   "source": [
    "attn_mode = 'ATTENUATION_AND_DISPERSION'"
   ]
  },
  {
   "cell_type": "markdown",
   "metadata": {},
   "source": [
    "Accuracy of computation Reasonable values are $10^{-4}$ to $10^{-6}$. The adaptive step size integration method stops refining step size once the estimated error is below this value."
   ]
  },
  {
   "cell_type": "code",
   "execution_count": 16,
   "metadata": {
    "collapsed": true
   },
   "outputs": [],
   "source": [
    "eps = 1.e-5"
   ]
  },
  {
   "cell_type": "markdown",
   "metadata": {},
   "source": [
    "We also need an upper limit for the wavenumbers. Since this depends linearly on frequency, we instead give a slowness or inverse wave speed limit $p=k/\\omega$ expressed in units of s/km. You may specifiy two different values to save computation time. The first one is for the frequency range $0 < f < f_{max}/2$ and the second one for the range $f_{max}/2 < f < f_{max}$. The 2nd one can be more restrictive because contributions by frequencies beyond $f_{max}/2$ will be diminished by a low-pass filter when tranforming into the time domain. Given a value of $p$, waves travelling with apparent speeds of $1/p$ will miss in the synthetic seismograms. A good first estimate for $p$ is the slowness of the slowest surface wave propagating in the model."
   ]
  },
  {
   "cell_type": "code",
   "execution_count": 17,
   "metadata": {
    "collapsed": true
   },
   "outputs": [],
   "source": [
    "slowness_limit_1 = 0.5\n",
    "slowness_limit_2 = 0.5"
   ]
  },
  {
   "cell_type": "markdown",
   "metadata": {},
   "source": [
    "Since a formula $k_{max} = p\\omega$ would lead to $k_{max} = 0$ at zero frequency, the wavenumber range is extended by a constant fraction of the one at $f_{max}/2$. Here, you can specify this fraction:"
   ]
  },
  {
   "cell_type": "code",
   "execution_count": 18,
   "metadata": {
    "collapsed": true
   },
   "outputs": [],
   "source": [
    "wavenumber_margin_fraction = 0.1"
   ]
  },
  {
   "cell_type": "markdown",
   "metadata": {},
   "source": [
    "Flag for calculating stresses R,S,T in addition to displacements(true or false)"
   ]
  },
  {
   "cell_type": "code",
   "execution_count": 19,
   "metadata": {
    "collapsed": true
   },
   "outputs": [],
   "source": [
    "stressflag = '.false.'"
   ]
  },
  {
   "cell_type": "markdown",
   "metadata": {},
   "source": [
    "Finally, we need to specify the radial node where the receiver is located (typically at the surface):"
   ]
  },
  {
   "cell_type": "code",
   "execution_count": 20,
   "metadata": {
    "collapsed": true
   },
   "outputs": [],
   "source": [
    "rec_node_index = 21"
   ]
  },
  {
   "cell_type": "markdown",
   "metadata": {},
   "source": [
    "Now we are ready to create the parameter file. First, we generate a Python string containing the entire contents of the file and then we write it to the working folder:"
   ]
  },
  {
   "cell_type": "code",
   "execution_count": 21,
   "metadata": {
    "collapsed": false
   },
   "outputs": [],
   "source": [
    "from parfile_gfksyn import create_gfksyn_parfile \n",
    "\n",
    "parstring = create_gfksyn_parfile(tlen,xlen,fmax,earth_model,basename,\n",
    "            source_type,attn_mode,eps,slowness_limit_1,slowness_limit_2,wavenumber_margin_fraction,\n",
    "            stressflag,rearth,nblocks,nnod,dr,shift,rec_node_index)"
   ]
  },
  {
   "cell_type": "markdown",
   "metadata": {},
   "source": [
    "Now, we write the new parameter file into the compute folder. First, tell what its name is:"
   ]
  },
  {
   "cell_type": "code",
   "execution_count": 22,
   "metadata": {
    "collapsed": false
   },
   "outputs": [],
   "source": [
    "outfile = './'+'parfile_gfk'"
   ]
  },
  {
   "cell_type": "code",
   "execution_count": 23,
   "metadata": {
    "collapsed": false
   },
   "outputs": [],
   "source": [
    "with open(outfile,'w') as fd:\n",
    "    fd.write(parstring)"
   ]
  }
 ],
 "metadata": {
  "kernelspec": {
   "display_name": "Python 3",
   "language": "python",
   "name": "python3"
  },
  "language_info": {
   "codemirror_mode": {
    "name": "ipython",
    "version": 3
   },
   "file_extension": ".py",
   "mimetype": "text/x-python",
   "name": "python",
   "nbconvert_exporter": "python",
   "pygments_lexer": "ipython3",
   "version": "3.6.0"
  }
 },
 "nbformat": 4,
 "nbformat_minor": 0
}
