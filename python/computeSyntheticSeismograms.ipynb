{
 "cells": [
  {
   "cell_type": "markdown",
   "metadata": {},
   "source": [
    "# Computation of synthetic seismograms"
   ]
  },
  {
   "cell_type": "markdown",
   "metadata": {},
   "source": [
    "Synthetic seismograms are obtained by running <b>computeSyntheticSeismograms</b> using the Green frequency wavenumber spectra computed before. Necessary prerequisites for doing so are an event file and a station file as well as event and station filters.\n",
    "\n",
    "You should already have a working folder where you put the output from the Green FK spectra calculations. Please copy this notebook there, then close and halt this one, switch to your working folder and start it from there.\n",
    "\n",
    "Since running programs takes very little time, we execute them from within this script. For this reason, we first need to set a path to the binaries:"
   ]
  },
  {
   "cell_type": "code",
   "execution_count": 1,
   "metadata": {
    "collapsed": true
   },
   "outputs": [],
   "source": [
    "import os\n",
    "import sys\n",
    "import subprocess\n",
    "sys.path.append('/home/wolle/work_git/geminiUnified/python/')"
   ]
  },
  {
   "cell_type": "code",
   "execution_count": 2,
   "metadata": {
    "collapsed": true
   },
   "outputs": [],
   "source": [
    "binary_folder = '/home/wolle/work_git/geminiUnified/bin/'"
   ]
  },
  {
   "cell_type": "markdown",
   "metadata": {},
   "source": [
    "## Event file"
   ]
  },
  {
   "cell_type": "markdown",
   "metadata": {},
   "source": [
    "The following shows an example of an event file:"
   ]
  },
  {
   "cell_type": "raw",
   "metadata": {},
   "source": [
    "S\n",
    "060420_075254 20060420_075254_000000000  37.5980   20.9830  15.000  4.3  1 -0.475E+15  0.269E+16 -0.222E+16 -0.759E+15 -0.105E+16 -0.105E+16\n",
    "\n",
    "070123_212159 20070123_212159_000000000  38.2182   28.6160   6.000  4.5  1 -0.111E+16  0.257E+16 -0.146E+16 -0.261E+16 -0.152E+16 -0.590E+16"
   ]
  },
  {
   "cell_type": "markdown",
   "metadata": {},
   "source": [
    "The first line specifies the coordinate system used to specify event locations. 'S' stands for spherical and 'C' for cartesian.<br> \n",
    "The next (wrapped) lines specify the events. Data fields provide: \n",
    "+ event ID, \n",
    "+ date and time strings containing year, month, day, hour, minute, second and nanoseconds of the event origin time, \n",
    "+ latitude in degrees, longitude in degrees, depth in km, \n",
    "+ magnitude, source type (0 = force, 1 = moment tensor), \n",
    "+ either 6 components of the moment tensor in the order $M_{rr}, M_{\\theta\\theta}, M_{\\phi\\phi},M_{r\\theta},M_{r\\phi},M_{\\theta\\phi}$, \n",
    "+ or three components of the force in the order $f_r, f_\\theta, f_\\phi$.\n",
    "\n",
    "Use your text editor to create such a file!"
   ]
  },
  {
   "cell_type": "markdown",
   "metadata": {},
   "source": [
    "## Station file"
   ]
  },
  {
   "cell_type": "markdown",
   "metadata": {},
   "source": [
    "The following shows an example of a station file:"
   ]
  },
  {
   "cell_type": "raw",
   "metadata": {},
   "source": [
    "S\n",
    "AMOS EN  36.7956  25.7690   052\n",
    "AT02 EN  38.0473  23.8638   497\n",
    "MYKO EN  37.4822  25.3844   150"
   ]
  },
  {
   "cell_type": "markdown",
   "metadata": {},
   "source": [
    "Again the first line specifies the coordinate system. The following lines specify the stations: \n",
    "+ station name, network name, \n",
    "+ latitude in degrees, longitude in degress and altitude in meters.\n",
    "\n",
    "Use your text editor to create such a file."
   ]
  },
  {
   "cell_type": "markdown",
   "metadata": {},
   "source": [
    "## Setup of the parameter file"
   ]
  },
  {
   "cell_type": "markdown",
   "metadata": {},
   "source": [
    "Running <b>computeSyntheticSeismograms</b> requires setting up a parameter file. We go through every parameter here step by step.\n",
    "\n",
    "Base name for the output file of <b>computeGreenFKSpectraForSynthetics</b> with Green spectra in the\n",
    "frequency-wavenumber domain. Provide full path and first part of file name including source type specification which is either <i>\"FORCE\"</i> for a single force or <i>\"MOMENT\"</i> for a moment tensor source. Further extensions such as <i>\"000\"</i> are provided automatically by <b>computeSyntheticSeismograms</b>."
   ]
  },
  {
   "cell_type": "code",
   "execution_count": 18,
   "metadata": {
    "collapsed": false
   },
   "outputs": [],
   "source": [
    "basename = 'gfk.MOMENT'"
   ]
  },
  {
   "cell_type": "markdown",
   "metadata": {},
   "source": [
    "Path to folder where synthetic seismograms are going to be stored (include \"/\" into the path)."
   ]
  },
  {
   "cell_type": "code",
   "execution_count": 19,
   "metadata": {
    "collapsed": false
   },
   "outputs": [],
   "source": [
    "path_synthetic_seis = './synseis/'\n",
    "\n",
    "if (not os.path.exists(path_synthetic_seis)):\n",
    "    os_mkdir(path_synthetic_seis)"
   ]
  },
  {
   "cell_type": "markdown",
   "metadata": {},
   "source": [
    "Name of event file including full path."
   ]
  },
  {
   "cell_type": "code",
   "execution_count": 20,
   "metadata": {
    "collapsed": true
   },
   "outputs": [],
   "source": [
    "file_event_list = './events'"
   ]
  },
  {
   "cell_type": "markdown",
   "metadata": {},
   "source": [
    "Name of station list including full path."
   ]
  },
  {
   "cell_type": "code",
   "execution_count": 21,
   "metadata": {
    "collapsed": true
   },
   "outputs": [],
   "source": [
    "file_station_list = './stations'"
   ]
  },
  {
   "cell_type": "markdown",
   "metadata": {},
   "source": [
    "We also need event filters which are explained later. Here, we need to give the path to folder where event filters are stored (include \"/\" into the path). Filter file names follow the convention <i>\"filter_eventid\"</i>."
   ]
  },
  {
   "cell_type": "code",
   "execution_count": 22,
   "metadata": {
    "collapsed": false
   },
   "outputs": [],
   "source": [
    "path_event_filter = './event_filter/'\n",
    "\n",
    "if (not os.path.exists(path_event_filter)):\n",
    "    os.mkdir(path_event_filter)"
   ]
  },
  {
   "cell_type": "markdown",
   "metadata": {},
   "source": [
    "We also need station filters as explained later. Here, we need to gve the path to folder where station filters are stored (inlude / into the path). Filter file names follow the convention <i>\"filter_staname_component\"</i>."
   ]
  },
  {
   "cell_type": "code",
   "execution_count": 23,
   "metadata": {
    "collapsed": true
   },
   "outputs": [],
   "source": [
    "path_station_filter = './station_filter/'\n",
    "\n",
    "if (not os.path.exists(path_station_filter)):\n",
    "    os.mkdir(path_station_filter)"
   ]
  },
  {
   "cell_type": "markdown",
   "metadata": {},
   "source": [
    "Components to be evaluated are given a a character string composed of single characters each of whih specifies one component. Possible (implemented) values are:<br>\n",
    "Z: vertical; N: north; E: east; H: water ressure (for hydrophones); R: $rr$-stress; S: $r\\theta$-stress"
   ]
  },
  {
   "cell_type": "code",
   "execution_count": 24,
   "metadata": {
    "collapsed": true
   },
   "outputs": [],
   "source": [
    "components = 'ZNE'"
   ]
  },
  {
   "cell_type": "markdown",
   "metadata": {},
   "source": [
    "Information specifying the way the event filter is computed.<br>\n",
    "EVENT_FILTER_TYPE contains a keyword for the algorithm. Allowed values are currently: BUTTERWORTH_BANDPASS.<br>\n",
    "EVENT_FILTER_SPECS contains a real array with necessary data.\n",
    "Here, it is order and corner frequency (Hz) for highpass and lowpass filters,\n",
    "respectively."
   ]
  },
  {
   "cell_type": "code",
   "execution_count": 25,
   "metadata": {
    "collapsed": true
   },
   "outputs": [],
   "source": [
    "event_filter_type = 'BUTTERWORTH_BANDPASS'\n",
    "event_filter_specs = '2.0 0.01 5.0 0.1'"
   ]
  },
  {
   "cell_type": "markdown",
   "metadata": {},
   "source": [
    "Information specifying the way station filters are computed.<br>\n",
    "STATION_FILTER_TYPE contains a keyword for the algorithm. Allowed values are currently \"UNIT\" (setting the filter value to 1 for all frequencies). More should be implemented later."
   ]
  },
  {
   "cell_type": "code",
   "execution_count": 26,
   "metadata": {
    "collapsed": true
   },
   "outputs": [],
   "source": [
    "station_filter_type = 'UNIT'"
   ]
  },
  {
   "cell_type": "markdown",
   "metadata": {},
   "source": [
    "Now, we are ready to generate the parameter file by importing the <b>parfile_synseis</b> parameter file template and running it with the variables defined above."
   ]
  },
  {
   "cell_type": "code",
   "execution_count": 27,
   "metadata": {
    "collapsed": false
   },
   "outputs": [],
   "source": [
    "from parfile_synseis import create_synseis_parfile \n",
    "\n",
    "parstring = create_synseis_parfile(basename,path_synthetic_seis,file_event_list,file_station_list,\n",
    "                                   path_event_filter,path_station_filter,components,event_filter_type,\n",
    "                                   event_filter_specs,station_filter_type)"
   ]
  },
  {
   "cell_type": "markdown",
   "metadata": {},
   "source": [
    "Now, we write the new parameter file into the compute folder. First, tell what its name is:"
   ]
  },
  {
   "cell_type": "code",
   "execution_count": 28,
   "metadata": {
    "collapsed": true
   },
   "outputs": [],
   "source": [
    "parfile = 'parfile_syn'"
   ]
  },
  {
   "cell_type": "code",
   "execution_count": 29,
   "metadata": {
    "collapsed": false
   },
   "outputs": [],
   "source": [
    "with open(parfile,'w') as fd:\n",
    "    fd.write(parstring)"
   ]
  },
  {
   "cell_type": "markdown",
   "metadata": {},
   "source": [
    "## Event filters"
   ]
  },
  {
   "cell_type": "markdown",
   "metadata": {},
   "source": [
    "For each event, you may specify the transfer function of an event filter. It could represent the Fourier transform of a source wavelet or simply a filter to be applied to all seismograms generated by this event. The file contains one complex number per line. It is assumed that these numbers represent the values of the transfer function at the frequencies previously used by GEMINI for computing Green frequency-wavenumber spectra. Since producing this file manually is error prone, we offer the program <b>computeEventFilter</b> to do the job. <b>computeEventFilter</b> also used the previously constructed parameter file for input. Here is its usage message:"
   ]
  },
  {
   "cell_type": "raw",
   "metadata": {
    "collapsed": true
   },
   "source": [
    "                              | USAGE |\n",
    "                              ---------\n",
    "Program:     computeEventFilter\n",
    "Description: Compute event filters at frequencies specified in Green FK spectra for all events\n",
    " \n",
    "Positional arguments:\n",
    "       parfile_synseis: Type =  sval, Description = Parameter file for synthtic seismograms"
   ]
  },
  {
   "cell_type": "markdown",
   "metadata": {},
   "source": [
    "Run the <b>computeEventFilter</b> program in the compute folder."
   ]
  },
  {
   "cell_type": "code",
   "execution_count": 33,
   "metadata": {
    "collapsed": false
   },
   "outputs": [
    {
     "name": "stdout",
     "output_type": "stream",
     "text": [
      "b\"--------------------------------------------------------------------------------\\n                         | DOCUMENTATION OF COMMANDLINE CONTENTS |\\n                         -----------------------------------------\\nProgram:     computeEventFilter\\nDescription: Compute event filters at frequencies specified in Green FK spectra for all events\\n \\nPositional arguments:\\n         parfile_synseis: Type =  sval, Value = parfile_syn\\n \\nOptional arguments:\\n--------------------------------------------------------------------------------\\n The following values for the input parameters are used: \\n 'FILE_EVENT_LIST' = './events'\\n 'PATH_EVENT_FILTER' = './event_filter/'\\n 'GFDSV_BASENAME' = 'gfk.MOMENT'\\n 'EVENT_FILTER_TYPE' = 'BUTTERWORTH_BANDPASS'\\n 'EVENT_FILTER_SPECS' = '3.0 0.01 5.0 0.1'\\n >>>>>>>>>>>>>>>>>>>>>>>>>>>>>>>>>>>>>>>>>>>>\\n >>>>>>>>>>>>>>>>   SUCCESS   >>>>>>>>>>>>>>>\\n >>>> \\n >>>> SUCCESS in readStandardEventFile --> successfully opened event file './events'\\n >>>> SUCCESS in readStandardEventFile --> number of non-empty lines found in event file (below first line):    1\\n >>>> \\n >>>> message created in --> computeEventFilter\\n >>>>     passed through --> readInputParameter\\n >>>>     passed through --> createEventListFromStandardEventFile\\n >>>>     passed through --> readStandardEventFile\\n >>>>     passed through --> extractFrequencyInformationGreenFKSpectra\\n >>>>>>>>>>>>>>>>>>>>>>>>>>>>>>>>>>>>>>>>>>>>\\n \\n\"\n"
     ]
    }
   ],
   "source": [
    "message = subprocess.check_output(binary_folder+\"computeEventFilter \"+parfile,shell = True)\n",
    "print(message)"
   ]
  },
  {
   "cell_type": "markdown",
   "metadata": {},
   "source": [
    "## Station filters"
   ]
  },
  {
   "cell_type": "markdown",
   "metadata": {},
   "source": [
    "You may specify a filter transfer function for each station and component. Its main purpose is to provide the transfer function of the instrument. The filter files again consist of one column filled with complex numbers. It is assumed that these numbers represent the values of the transfer function at the frequencies previously used by GFDSV for computing Green frequency-wavenumber spectra. Since producing these files manually is error prone, we offer the program <b>computeStationFilter</b> to do the job. <b>computeStationFilter</b> also used the gfdsvseis parameter file for input. Here is its usage message:"
   ]
  },
  {
   "cell_type": "raw",
   "metadata": {},
   "source": [
    "                              | USAGE |\n",
    "                              ---------\n",
    "Program:     computeStationFilter\n",
    "Description: Compute station filters at frequencies specified in Green FK spectra for all events\n",
    " \n",
    "Positional arguments:\n",
    "       parfile_synseis: Type =  sval, Description = Parameter file needed for synthetic seismograms"
   ]
  },
  {
   "cell_type": "markdown",
   "metadata": {},
   "source": [
    "Currently, this program does not support instrument transfer function calculations. It only offers a \"unit\" station filter actually doing nothing. But the output files are needed for <b>computeSyntheticSeismograms</b> to function correctly."
   ]
  },
  {
   "cell_type": "markdown",
   "metadata": {},
   "source": [
    "Run the <b>computeStationFilter</b> program in the compute folder."
   ]
  },
  {
   "cell_type": "code",
   "execution_count": 36,
   "metadata": {
    "collapsed": false
   },
   "outputs": [
    {
     "name": "stdout",
     "output_type": "stream",
     "text": [
      "b\"--------------------------------------------------------------------------------\\n                         | DOCUMENTATION OF COMMANDLINE CONTENTS |\\n                         -----------------------------------------\\nProgram:     computeStationFilter\\nDescription: Compute station filters at frequencies specified in Green FK spectra for all events\\n \\nPositional arguments:\\n         parfile_synseis: Type =  sval, Value = parfile_syn\\n \\nOptional arguments:\\n--------------------------------------------------------------------------------\\n The following values for the input parameters are used: \\n 'FILE_STATION_LIST' = './stations'\\n 'PATH_STATION_FILTER' = './station_filter/'\\n 'GFDSV_BASENAME' = 'gfk.MOMENT'\\n 'COMPONENTS' = 'ZNE'\\n 'STATION_FILTER_TYPE' = 'UNIT'\\n >>>>>>>>>>>>>>>>>>>>>>>>>>>>>>>>>>>>>>>>>>>>\\n >>>>>>>>>>>>>>>>   SUCCESS   >>>>>>>>>>>>>>>\\n >>>> \\n >>>> SUCCESS in readStandardStationFile --> successfully opened station file './stations'\\n >>>> SUCCESS in readStandardStationFile --> number of non-empty lines found in stations file (below first line):    3\\n >>>> \\n >>>> message created in --> computeStationFilter\\n >>>>     passed through --> readInputParameter\\n >>>>     passed through --> createStationListFromStandardStationFile\\n >>>>     passed through --> readStandardStationFile\\n >>>>     passed through --> extractFrequencyInformationGreenFKSpectra\\n >>>>>>>>>>>>>>>>>>>>>>>>>>>>>>>>>>>>>>>>>>>>\\n \\n\"\n"
     ]
    }
   ],
   "source": [
    "message = subprocess.check_output(binary_folder+\"computeStationFilter \"+parfile,shell = True)\n",
    "print(message)"
   ]
  },
  {
   "cell_type": "markdown",
   "metadata": {},
   "source": [
    "## Synthetic seismograms"
   ]
  },
  {
   "cell_type": "markdown",
   "metadata": {},
   "source": [
    "Now, you are ready to run <b>computeSyntheticSeismograms</b> in the compute folder to which the parameter file was written. Here is its usage message:"
   ]
  },
  {
   "cell_type": "raw",
   "metadata": {},
   "source": [
    "                              | USAGE |\n",
    "                              ---------\n",
    "Program:     computeSyntheticSeismograms\n",
    "Description: Compute synthetic seismograms using precalculated Green FK-spectra\n",
    " \n",
    "Positional arguments:\n",
    "       parfile_synseis: Type =  sval, Description = Parameter file"
   ]
  },
  {
   "cell_type": "code",
   "execution_count": 37,
   "metadata": {
    "collapsed": false
   },
   "outputs": [
    {
     "name": "stdout",
     "output_type": "stream",
     "text": [
      "b\"--------------------------------------------------------------------------------\\n                         | DOCUMENTATION OF COMMANDLINE CONTENTS |\\n                         -----------------------------------------\\nProgram:     computeSyntheticSeismograms\\nDescription: Compute synthetic seismograms using Green FK-spectra for synthetics\\n \\nPositional arguments:\\n                 parfile: Type =  sval, Value = parfile_syn\\n \\nOptional arguments:\\n--------------------------------------------------------------------------------\\n The following values for the input parameters are used: \\n 'GFDSV_BASENAME' = 'gfk.MOMENT'\\n 'PATH_SYNTHETIC_SEIS' = './synseis/'\\n 'FILE_EVENT_LIST' = './events'\\n 'FILE_STATION_LIST' = './stations'\\n 'COMPONENTS' = 'ZNE'\\n 'PATH_EVENT_FILTER' = './event_filter/'\\n 'PATH_STATION_FILTER' = './station_filter/'\\n Desired depth of gfk-evaluation is:    15.0000000      km\\n Index of gfk-evaluation is:           16\\n True depth of gfk-evaluation is:       15.0000000      km\\n >>>>>>>>>>>>>>>>>>>>>>>>>>>>>>>>>>>>>>>>>>>>\\n >>>>>>>>>>>>>>>>   SUCCESS   >>>>>>>>>>>>>>>\\n >>>> \\n >>>> SUCCESS in readStandardEventFile --> successfully opened event file './events'\\n >>>> SUCCESS in readStandardEventFile --> number of non-empty lines found in event file (below first line):    1\\n >>>> SUCCESS in readStandardStationFile --> successfully opened station file './stations'\\n >>>> SUCCESS in readStandardStationFile --> number of non-empty lines found in stations file (below first line):    3\\n >>>> SUCCESS in readMetaGreenFKSpectra --> FrequencyWavenumber file of first task gfk.MOMENT opened.\\n >>>> SUCCESS in readMetaGreenFKSpectra -->  rearth, rse, sigma, tlen, xlen:    6371.00000       6371.00000       9.76562500E-03   512.000000       5000.00000\\n >>>> SUCCESS in readMetaGreenFKSpectra -->  external nodes read in\\n >>>> SUCCESS in readMetaGreenFKSpectra -->  istyp,nf1,nf2,nkfmax,nwnmax,nsrcsph,nsrctor,dsvstep,derivflag,numtasks:\\n >>>> SUCCESS in readMetaGreenFKSpectra -->            1           2         103       15548         554           4           2           2           0           2\\n >>>> SUCCESS in readMetaGreenFKSpectra -->  Frequency information: fmin =    1.95312500E-03 , fmax =   0.199218750\\n >>>> \\n >>>> message created in --> computeSyntheticSeismograms\\n >>>>     passed through --> readInputParameter\\n >>>>     passed through --> createEventListFromStandardEventFile\\n >>>>     passed through --> readStandardEventFile\\n >>>>     passed through --> createStationListFromStandardStationFile\\n >>>>     passed through --> readStandardStationFile\\n >>>>     passed through --> readMetaGreenFKSpectra\\n >>>>>>>>>>>>>>>>>>>>>>>>>>>>>>>>>>>>>>>>>>>>\\n \\n\"\n"
     ]
    }
   ],
   "source": [
    "message = subprocess.check_output(binary_folder+\"computeSyntheticSeismograms \"+parfile,shell = True)\n",
    "print(message)"
   ]
  },
  {
   "cell_type": "markdown",
   "metadata": {},
   "source": [
    "Next, you should check the Green wavenumber spectra for proper selection of slowness limits. Cut-off of high amplitude branches can lead to inaccurate seismograms."
   ]
  },
  {
   "cell_type": "code",
   "execution_count": 38,
   "metadata": {
    "collapsed": false
   },
   "outputs": [
    {
     "name": "stdout",
     "output_type": "stream",
     "text": [
      "b'--------------------------------------------------------------------------------\\n                         | DOCUMENTATION OF COMMANDLINE CONTENTS |\\n                         -----------------------------------------\\nProgram:     plotGreenFKSpectra\\nDescription: Plot Green frequency wavenumber spectra\\n \\nPositional arguments:\\n                 dsvbase: Type =  sval, Value = gfk.MOMENT\\n \\nOptional arguments:\\n           -jr: Type =  ival, Value   = 15\\n           -bg: Type =  rval, Default = -4.0\\n            -w: Type =  rval, Default = 8.\\n            -a: Type =  rval, Default = 0.65\\n--------------------------------------------------------------------------------\\nTable of contents:\\n  Name    Comp    Jump   Count\\n     U       1       1       1\\n     U       1       2       2\\n     U       1       3       3\\n     U       1       4       4\\n     V       3       1       5\\n     V       3       2       6\\n     V       3       3       7\\n     V       3       4       8\\n     W       7       1       9\\n     W       7       2      10\\n Available options: A D X z Z l r u d o s[isp][jsp] b[n] h\\n'\n"
     ]
    }
   ],
   "source": [
    "message = subprocess.check_output(binary_folder+\"plotGreenFKSpectra -jr 15 \"+basename,shell = True)\n",
    "print(message)"
   ]
  },
  {
   "cell_type": "markdown",
   "metadata": {
    "collapsed": true
   },
   "source": [
    "You may look at individual seismograms using <b>plotSeismogramGather</b> or you may wish to collect event gathers and the plot these. To build event gathers, you may use the program <b>buildSeismogramGather</b> using again the synseis parameter file:"
   ]
  },
  {
   "cell_type": "code",
   "execution_count": 39,
   "metadata": {
    "collapsed": false
   },
   "outputs": [
    {
     "name": "stdout",
     "output_type": "stream",
     "text": [
      "b\"--------------------------------------------------------------------------------\\n                         | DOCUMENTATION OF COMMANDLINE CONTENTS |\\n                         -----------------------------------------\\nProgram:     buildSeismogramGather\\nDescription: Build up a seismic gather from individual synthetic traces\\n \\nPositional arguments:\\n          gemini_parfile: Type =  sval, Value = parfile_syn\\n \\nOptional arguments:\\n           -gt: Type =  sval, Default = SOURCE_GATHER\\n--------------------------------------------------------------------------------\\n The following values for the input parameters are used: \\n 'PATH_SYNTHETIC_SEIS' = './synseis/'\\n 'FILE_EVENT_LIST' = './events'\\n 'FILE_STATION_LIST' = './stations'\\n 'COMPONENTS' = 'ZNE'\\n >>>>>>>>>>>>>>>>>>>>>>>>>>>>>>>>>>>>>>>>>>>>\\n >>>>>>>>>>>>>>>>   SUCCESS   >>>>>>>>>>>>>>>\\n >>>> \\n >>>> SUCCESS in readStandardEventFile --> successfully opened event file './events'\\n >>>> SUCCESS in readStandardEventFile --> number of non-empty lines found in event file (below first line):    1\\n >>>> SUCCESS in readStandardStationFile --> successfully opened station file './stations'\\n >>>> SUCCESS in readStandardStationFile --> number of non-empty lines found in stations file (below first line):    3\\n >>>> \\n >>>> message created in --> buildSeismogramGather\\n >>>>     passed through --> readInputParameter\\n >>>>     passed through --> createEventListFromStandardEventFile\\n >>>>     passed through --> readStandardEventFile\\n >>>>     passed through --> createStationListFromStandardStationFile\\n >>>>     passed through --> readStandardStationFile\\n >>>>>>>>>>>>>>>>>>>>>>>>>>>>>>>>>>>>>>>>>>>>\\n \\n\"\n"
     ]
    }
   ],
   "source": [
    "message = subprocess.check_output(binary_folder+\"buildSeismogramGather \"+parfile,shell = True)\n",
    "print(message)"
   ]
  },
  {
   "cell_type": "markdown",
   "metadata": {},
   "source": [
    "Now, we are ready to plot the event gathers:"
   ]
  },
  {
   "cell_type": "code",
   "execution_count": 40,
   "metadata": {
    "collapsed": false
   },
   "outputs": [
    {
     "name": "stdout",
     "output_type": "stream",
     "text": [
      "b'--------------------------------------------------------------------------------\\n                         | DOCUMENTATION OF COMMANDLINE CONTENTS |\\n                         -----------------------------------------\\nProgram:     plotAsciiSynseisGather\\nDescription: Plot a synthetic seismogram gather\\n \\nPositional arguments:\\n            gather_files: Type =  sval, Value = ./synseis/060420_075254_gather.asc\\n \\nOptional arguments:\\n           -tx: Type =  none, Default = none\\n            -w: Type =  rval, Default = 10.\\n            -a: Type =  rval, Default = 0.65\\n     -pickfile: Type =  sval, Default = unspec.pck\\n--------------------------------------------------------------------------------\\n Reading gather file: ./synseis/060420_075254_gather.asc\\n Available interactive options: A D X Z z l r u d\\n Available interactive options: A D X Z z l r u d\\n Available interactive options: A D X Z z l r u d\\n Available interactive options: A D X Z z l r u d\\n Available interactive options: A D X Z z l r u d\\n Available interactive options: A D X Z z l r u d\\n Available interactive options: A D X Z z l r u d\\n Available interactive options: A D X Z z l r u d\\n Available interactive options: A D X Z z l r u d\\n Available interactive options: A D X Z z l r u d\\n Available interactive options: A D X Z z l r u d\\n Available interactive options: A D X Z z l r u d\\n Available interactive options: A D X Z z l r u d\\n Available interactive options: A D X Z z l r u d\\n Available interactive options: A D X Z z l r u d\\n Available interactive options: A D X Z z l r u d\\n Available interactive options: A D X Z z l r u d\\n Available interactive options: A D X Z z l r u d\\n Available interactive options: A D X Z z l r u d\\n Available interactive options: A D X Z z l r u d\\n'\n"
     ]
    }
   ],
   "source": [
    "with open(file_event_list,'r') as fd:\n",
    "    csys = fd.readline()\n",
    "    for line in fd:\n",
    "        evid = (line.split(' '))[0]\n",
    "        message = subprocess.check_output(binary_folder+\"plotSeismogramGather \"+path_synthetic_seis+evid+'_gather.asc',shell = True)\n",
    "        print(message)"
   ]
  },
  {
   "cell_type": "code",
   "execution_count": null,
   "metadata": {
    "collapsed": true
   },
   "outputs": [],
   "source": []
  }
 ],
 "metadata": {
  "kernelspec": {
   "display_name": "Python 3",
   "language": "python",
   "name": "python3"
  },
  "language_info": {
   "codemirror_mode": {
    "name": "ipython",
    "version": 3
   },
   "file_extension": ".py",
   "mimetype": "text/x-python",
   "name": "python",
   "nbconvert_exporter": "python",
   "pygments_lexer": "ipython3",
   "version": "3.6.0"
  }
 },
 "nbformat": 4,
 "nbformat_minor": 0
}
